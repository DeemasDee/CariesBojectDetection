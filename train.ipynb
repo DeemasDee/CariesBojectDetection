{
 "cells": [
  {
   "cell_type": "code",
   "execution_count": 2,
   "metadata": {},
   "outputs": [
    {
     "name": "stdout",
     "output_type": "stream",
     "text": [
      "Requirement already satisfied: dataset-tools in ./.venv/lib/python3.10/site-packages (0.1.5)\n",
      "Requirement already satisfied: supervisely>=6.72.28 in ./.venv/lib/python3.10/site-packages (from dataset-tools) (6.73.328)\n",
      "Requirement already satisfied: numpy<2.0.0,>=1.19 in ./.venv/lib/python3.10/site-packages (from dataset-tools) (1.26.4)\n",
      "Requirement already satisfied: requests<3.0.0,>=2.27.1 in ./.venv/lib/python3.10/site-packages (from dataset-tools) (2.32.3)\n",
      "Requirement already satisfied: requests-toolbelt<1.0.0,>=0.9.1 in ./.venv/lib/python3.10/site-packages (from dataset-tools) (0.10.1)\n",
      "Requirement already satisfied: tqdm<5.0.0,>=4.62.3 in ./.venv/lib/python3.10/site-packages (from dataset-tools) (4.67.1)\n",
      "Requirement already satisfied: pandas<=1.5.2,>=1.1.3 in ./.venv/lib/python3.10/site-packages (from dataset-tools) (1.5.2)\n",
      "Requirement already satisfied: matplotlib<4.0.0,>=3.3.2 in ./.venv/lib/python3.10/site-packages (from dataset-tools) (3.10.1)\n",
      "Requirement already satisfied: scikit-image<1.0.0,>=0.17.1 in ./.venv/lib/python3.10/site-packages (from dataset-tools) (0.25.2)\n",
      "Requirement already satisfied: dataframe-image<1.0.0,>=0.1.11 in ./.venv/lib/python3.10/site-packages (from dataset-tools) (0.2.7)\n",
      "Requirement already satisfied: inflect>=6.0.0 in ./.venv/lib/python3.10/site-packages (from dataset-tools) (7.5.0)\n",
      "Requirement already satisfied: gdown>=4.7.1 in ./.venv/lib/python3.10/site-packages (from dataset-tools) (5.2.0)\n",
      "Requirement already satisfied: urllib3==1.26.15 in ./.venv/lib/python3.10/site-packages (from dataset-tools) (1.26.15)\n",
      "Requirement already satisfied: geojson>=3.0.0 in ./.venv/lib/python3.10/site-packages (from dataset-tools) (3.2.0)\n",
      "Requirement already satisfied: titlecase>=2.4.1 in ./.venv/lib/python3.10/site-packages (from dataset-tools) (2.4.1)\n",
      "Requirement already satisfied: pycocotools>=2.0.0 in ./.venv/lib/python3.10/site-packages (from dataset-tools) (2.0.8)\n",
      "Requirement already satisfied: memory-profiler==0.61.0 in ./.venv/lib/python3.10/site-packages (from dataset-tools) (0.61.0)\n",
      "Requirement already satisfied: Pympler==1.0.1 in ./.venv/lib/python3.10/site-packages (from dataset-tools) (1.0.1)\n",
      "Requirement already satisfied: xmltodict==0.13.0 in ./.venv/lib/python3.10/site-packages (from dataset-tools) (0.13.0)\n",
      "Requirement already satisfied: imagesize==1.4.1 in ./.venv/lib/python3.10/site-packages (from dataset-tools) (1.4.1)\n",
      "Requirement already satisfied: psutil in ./.venv/lib/python3.10/site-packages (from memory-profiler==0.61.0->dataset-tools) (5.9.8)\n",
      "Requirement already satisfied: nbconvert>=5 in ./.venv/lib/python3.10/site-packages (from dataframe-image<1.0.0,>=0.1.11->dataset-tools) (7.16.6)\n",
      "Requirement already satisfied: aiohttp>=3.10.2 in ./.venv/lib/python3.10/site-packages (from dataframe-image<1.0.0,>=0.1.11->dataset-tools) (3.11.13)\n",
      "Requirement already satisfied: pillow in ./.venv/lib/python3.10/site-packages (from dataframe-image<1.0.0,>=0.1.11->dataset-tools) (10.2.0)\n",
      "Requirement already satisfied: packaging in ./.venv/lib/python3.10/site-packages (from dataframe-image<1.0.0,>=0.1.11->dataset-tools) (24.2)\n",
      "Requirement already satisfied: mistune in ./.venv/lib/python3.10/site-packages (from dataframe-image<1.0.0,>=0.1.11->dataset-tools) (3.1.2)\n",
      "Requirement already satisfied: lxml in ./.venv/lib/python3.10/site-packages (from dataframe-image<1.0.0,>=0.1.11->dataset-tools) (5.3.1)\n",
      "Requirement already satisfied: beautifulsoup4 in ./.venv/lib/python3.10/site-packages (from dataframe-image<1.0.0,>=0.1.11->dataset-tools) (4.13.3)\n",
      "Requirement already satisfied: cssutils in ./.venv/lib/python3.10/site-packages (from dataframe-image<1.0.0,>=0.1.11->dataset-tools) (2.11.1)\n",
      "Requirement already satisfied: playwright in ./.venv/lib/python3.10/site-packages (from dataframe-image<1.0.0,>=0.1.11->dataset-tools) (1.50.0)\n",
      "Requirement already satisfied: cssselect in ./.venv/lib/python3.10/site-packages (from dataframe-image<1.0.0,>=0.1.11->dataset-tools) (1.3.0)\n",
      "Requirement already satisfied: filelock in ./.venv/lib/python3.10/site-packages (from gdown>=4.7.1->dataset-tools) (3.17.0)\n",
      "Requirement already satisfied: more_itertools>=8.5.0 in ./.venv/lib/python3.10/site-packages (from inflect>=6.0.0->dataset-tools) (10.6.0)\n",
      "Requirement already satisfied: typeguard>=4.0.1 in ./.venv/lib/python3.10/site-packages (from inflect>=6.0.0->dataset-tools) (4.4.2)\n",
      "Requirement already satisfied: contourpy>=1.0.1 in ./.venv/lib/python3.10/site-packages (from matplotlib<4.0.0,>=3.3.2->dataset-tools) (1.3.1)\n",
      "Requirement already satisfied: cycler>=0.10 in ./.venv/lib/python3.10/site-packages (from matplotlib<4.0.0,>=3.3.2->dataset-tools) (0.12.1)\n",
      "Requirement already satisfied: fonttools>=4.22.0 in ./.venv/lib/python3.10/site-packages (from matplotlib<4.0.0,>=3.3.2->dataset-tools) (4.56.0)\n",
      "Requirement already satisfied: kiwisolver>=1.3.1 in ./.venv/lib/python3.10/site-packages (from matplotlib<4.0.0,>=3.3.2->dataset-tools) (1.4.8)\n",
      "Requirement already satisfied: pyparsing>=2.3.1 in ./.venv/lib/python3.10/site-packages (from matplotlib<4.0.0,>=3.3.2->dataset-tools) (3.2.1)\n",
      "Requirement already satisfied: python-dateutil>=2.7 in ./.venv/lib/python3.10/site-packages (from matplotlib<4.0.0,>=3.3.2->dataset-tools) (2.9.0.post0)\n",
      "Requirement already satisfied: pytz>=2020.1 in ./.venv/lib/python3.10/site-packages (from pandas<=1.5.2,>=1.1.3->dataset-tools) (2025.1)\n",
      "Requirement already satisfied: charset-normalizer<4,>=2 in ./.venv/lib/python3.10/site-packages (from requests<3.0.0,>=2.27.1->dataset-tools) (3.4.1)\n",
      "Requirement already satisfied: idna<4,>=2.5 in ./.venv/lib/python3.10/site-packages (from requests<3.0.0,>=2.27.1->dataset-tools) (3.10)\n",
      "Requirement already satisfied: certifi>=2017.4.17 in ./.venv/lib/python3.10/site-packages (from requests<3.0.0,>=2.27.1->dataset-tools) (2025.1.31)\n",
      "Requirement already satisfied: scipy>=1.11.4 in ./.venv/lib/python3.10/site-packages (from scikit-image<1.0.0,>=0.17.1->dataset-tools) (1.15.2)\n",
      "Requirement already satisfied: networkx>=3.0 in ./.venv/lib/python3.10/site-packages (from scikit-image<1.0.0,>=0.17.1->dataset-tools) (3.4.2)\n",
      "Requirement already satisfied: imageio!=2.35.0,>=2.33 in ./.venv/lib/python3.10/site-packages (from scikit-image<1.0.0,>=0.17.1->dataset-tools) (2.37.0)\n",
      "Requirement already satisfied: tifffile>=2022.8.12 in ./.venv/lib/python3.10/site-packages (from scikit-image<1.0.0,>=0.17.1->dataset-tools) (2025.2.18)\n",
      "Requirement already satisfied: lazy-loader>=0.4 in ./.venv/lib/python3.10/site-packages (from scikit-image<1.0.0,>=0.17.1->dataset-tools) (0.4)\n",
      "Requirement already satisfied: cachetools<=5.5.0,>=4.2.3 in ./.venv/lib/python3.10/site-packages (from supervisely>=6.72.28->dataset-tools) (5.5.0)\n",
      "Requirement already satisfied: opencv-python<5.0.0.0,>=4.6.0.66 in ./.venv/lib/python3.10/site-packages (from supervisely>=6.72.28->dataset-tools) (4.11.0.86)\n",
      "Requirement already satisfied: PTable<1.0.0,>=0.9.2 in ./.venv/lib/python3.10/site-packages (from supervisely>=6.72.28->dataset-tools) (0.9.2)\n",
      "Requirement already satisfied: protobuf<=3.20.3,>=3.19.5 in ./.venv/lib/python3.10/site-packages (from supervisely>=6.72.28->dataset-tools) (3.20.3)\n",
      "Requirement already satisfied: python-json-logger<3.0.0,>=0.1.11 in ./.venv/lib/python3.10/site-packages (from supervisely>=6.72.28->dataset-tools) (2.0.7)\n",
      "Requirement already satisfied: Shapely<=2.0.2,>=1.7.1 in ./.venv/lib/python3.10/site-packages (from supervisely>=6.72.28->dataset-tools) (2.0.2)\n",
      "Requirement already satisfied: bidict<1.0.0,>=0.21.2 in ./.venv/lib/python3.10/site-packages (from supervisely>=6.72.28->dataset-tools) (0.23.1)\n",
      "Requirement already satisfied: varname<1.0.0,>=0.8.1 in ./.venv/lib/python3.10/site-packages (from supervisely>=6.72.28->dataset-tools) (0.14.0)\n",
      "Requirement already satisfied: python-dotenv<=1.0.0,>=0.19.2 in ./.venv/lib/python3.10/site-packages (from supervisely>=6.72.28->dataset-tools) (1.0.0)\n",
      "Requirement already satisfied: pynrrd<1.0.0,>=0.4.2 in ./.venv/lib/python3.10/site-packages (from supervisely>=6.72.28->dataset-tools) (0.4.3)\n",
      "Requirement already satisfied: SimpleITK<3.0.0.0,>=2.1.1.2 in ./.venv/lib/python3.10/site-packages (from supervisely>=6.72.28->dataset-tools) (2.4.1)\n",
      "Requirement already satisfied: pydicom<3.0.0,>=2.3.0 in ./.venv/lib/python3.10/site-packages (from supervisely>=6.72.28->dataset-tools) (2.4.4)\n",
      "Requirement already satisfied: stringcase<2.0.0,>=1.2.0 in ./.venv/lib/python3.10/site-packages (from supervisely>=6.72.28->dataset-tools) (1.2.0)\n",
      "Requirement already satisfied: python-magic<1.0.0,>=0.4.25 in ./.venv/lib/python3.10/site-packages (from supervisely>=6.72.28->dataset-tools) (0.4.27)\n",
      "Requirement already satisfied: trimesh<=4.5.0,>=3.11.2 in ./.venv/lib/python3.10/site-packages (from supervisely>=6.72.28->dataset-tools) (4.5.0)\n",
      "Requirement already satisfied: uvicorn<1.0.0,>=0.18.2 in ./.venv/lib/python3.10/site-packages (from uvicorn[standard]<1.0.0,>=0.18.2->supervisely>=6.72.28->dataset-tools) (0.34.0)\n",
      "Requirement already satisfied: pydantic<=2.8.2,>=1.7.4 in ./.venv/lib/python3.10/site-packages (from supervisely>=6.72.28->dataset-tools) (2.8.2)\n",
      "Requirement already satisfied: anyio<=4.2.0,>=3.7.1 in ./.venv/lib/python3.10/site-packages (from supervisely>=6.72.28->dataset-tools) (4.2.0)\n",
      "Requirement already satisfied: fastapi<=0.109.0,>=0.79.0 in ./.venv/lib/python3.10/site-packages (from supervisely>=6.72.28->dataset-tools) (0.109.0)\n",
      "Requirement already satisfied: websockets<=13.1,>=10.3 in ./.venv/lib/python3.10/site-packages (from supervisely>=6.72.28->dataset-tools) (13.1)\n",
      "Requirement already satisfied: jinja2<4.0.0,>=3.0.3 in ./.venv/lib/python3.10/site-packages (from supervisely>=6.72.28->dataset-tools) (3.1.6)\n",
      "Requirement already satisfied: jsonpatch<2.0,>=1.32 in ./.venv/lib/python3.10/site-packages (from supervisely>=6.72.28->dataset-tools) (1.33)\n",
      "Requirement already satisfied: MarkupSafe<3.0.0,>=2.1.1 in ./.venv/lib/python3.10/site-packages (from supervisely>=6.72.28->dataset-tools) (2.1.5)\n",
      "Requirement already satisfied: arel<1.0.0,>=0.2.0 in ./.venv/lib/python3.10/site-packages (from supervisely>=6.72.28->dataset-tools) (0.3.0)\n",
      "Requirement already satisfied: async-asgi-testclient in ./.venv/lib/python3.10/site-packages (from supervisely>=6.72.28->dataset-tools) (1.4.11)\n",
      "Requirement already satisfied: PyYAML>=5.4.0 in ./.venv/lib/python3.10/site-packages (from supervisely>=6.72.28->dataset-tools) (6.0.2)\n",
      "Requirement already satisfied: distinctipy in ./.venv/lib/python3.10/site-packages (from supervisely>=6.72.28->dataset-tools) (1.3.4)\n",
      "Requirement already satisfied: numerize in ./.venv/lib/python3.10/site-packages (from supervisely>=6.72.28->dataset-tools) (0.12)\n",
      "Requirement already satisfied: ffmpeg-python==0.2.0 in ./.venv/lib/python3.10/site-packages (from supervisely>=6.72.28->dataset-tools) (0.2.0)\n",
      "Requirement already satisfied: python-multipart<=0.0.12,>=0.0.5 in ./.venv/lib/python3.10/site-packages (from supervisely>=6.72.28->dataset-tools) (0.0.12)\n",
      "Requirement already satisfied: GitPython in ./.venv/lib/python3.10/site-packages (from supervisely>=6.72.28->dataset-tools) (3.1.44)\n",
      "Requirement already satisfied: giturlparse in ./.venv/lib/python3.10/site-packages (from supervisely>=6.72.28->dataset-tools) (0.12.0)\n",
      "Requirement already satisfied: rich in ./.venv/lib/python3.10/site-packages (from supervisely>=6.72.28->dataset-tools) (13.9.4)\n",
      "Requirement already satisfied: click in ./.venv/lib/python3.10/site-packages (from supervisely>=6.72.28->dataset-tools) (8.1.8)\n",
      "Requirement already satisfied: imutils==0.5.4 in ./.venv/lib/python3.10/site-packages (from supervisely>=6.72.28->dataset-tools) (0.5.4)\n",
      "Requirement already satisfied: cacheout==0.14.1 in ./.venv/lib/python3.10/site-packages (from supervisely>=6.72.28->dataset-tools) (0.14.1)\n",
      "Requirement already satisfied: jsonschema<=4.20.0,>=2.6.0 in ./.venv/lib/python3.10/site-packages (from supervisely>=6.72.28->dataset-tools) (4.20.0)\n",
      "Requirement already satisfied: pyjwt<3.0.0,>=2.1.0 in ./.venv/lib/python3.10/site-packages (from supervisely>=6.72.28->dataset-tools) (2.10.1)\n",
      "Requirement already satisfied: zstd in ./.venv/lib/python3.10/site-packages (from supervisely>=6.72.28->dataset-tools) (1.5.6.6)\n",
      "Requirement already satisfied: aiofiles in ./.venv/lib/python3.10/site-packages (from supervisely>=6.72.28->dataset-tools) (24.1.0)\n",
      "Requirement already satisfied: httpx==0.27.2 in ./.venv/lib/python3.10/site-packages (from httpx[http2]==0.27.2->supervisely>=6.72.28->dataset-tools) (0.27.2)\n",
      "Requirement already satisfied: debugpy in ./.venv/lib/python3.10/site-packages (from supervisely>=6.72.28->dataset-tools) (1.8.13)\n",
      "Requirement already satisfied: future in ./.venv/lib/python3.10/site-packages (from ffmpeg-python==0.2.0->supervisely>=6.72.28->dataset-tools) (1.0.0)\n",
      "Requirement already satisfied: httpcore==1.* in ./.venv/lib/python3.10/site-packages (from httpx==0.27.2->httpx[http2]==0.27.2->supervisely>=6.72.28->dataset-tools) (1.0.7)\n",
      "Requirement already satisfied: sniffio in ./.venv/lib/python3.10/site-packages (from httpx==0.27.2->httpx[http2]==0.27.2->supervisely>=6.72.28->dataset-tools) (1.3.1)\n",
      "Requirement already satisfied: h2<5,>=3 in ./.venv/lib/python3.10/site-packages (from httpx[http2]==0.27.2->supervisely>=6.72.28->dataset-tools) (4.2.0)\n",
      "Requirement already satisfied: h11<0.15,>=0.13 in ./.venv/lib/python3.10/site-packages (from httpcore==1.*->httpx==0.27.2->httpx[http2]==0.27.2->supervisely>=6.72.28->dataset-tools) (0.14.0)\n",
      "Requirement already satisfied: aiohappyeyeballs>=2.3.0 in ./.venv/lib/python3.10/site-packages (from aiohttp>=3.10.2->dataframe-image<1.0.0,>=0.1.11->dataset-tools) (2.6.1)\n",
      "Requirement already satisfied: aiosignal>=1.1.2 in ./.venv/lib/python3.10/site-packages (from aiohttp>=3.10.2->dataframe-image<1.0.0,>=0.1.11->dataset-tools) (1.3.2)\n",
      "Requirement already satisfied: async-timeout<6.0,>=4.0 in ./.venv/lib/python3.10/site-packages (from aiohttp>=3.10.2->dataframe-image<1.0.0,>=0.1.11->dataset-tools) (5.0.1)\n",
      "Requirement already satisfied: attrs>=17.3.0 in ./.venv/lib/python3.10/site-packages (from aiohttp>=3.10.2->dataframe-image<1.0.0,>=0.1.11->dataset-tools) (25.2.0)\n",
      "Requirement already satisfied: frozenlist>=1.1.1 in ./.venv/lib/python3.10/site-packages (from aiohttp>=3.10.2->dataframe-image<1.0.0,>=0.1.11->dataset-tools) (1.5.0)\n",
      "Requirement already satisfied: multidict<7.0,>=4.5 in ./.venv/lib/python3.10/site-packages (from aiohttp>=3.10.2->dataframe-image<1.0.0,>=0.1.11->dataset-tools) (6.1.0)\n",
      "Requirement already satisfied: propcache>=0.2.0 in ./.venv/lib/python3.10/site-packages (from aiohttp>=3.10.2->dataframe-image<1.0.0,>=0.1.11->dataset-tools) (0.3.0)\n",
      "Requirement already satisfied: yarl<2.0,>=1.17.0 in ./.venv/lib/python3.10/site-packages (from aiohttp>=3.10.2->dataframe-image<1.0.0,>=0.1.11->dataset-tools) (1.18.3)\n",
      "Requirement already satisfied: exceptiongroup>=1.0.2 in ./.venv/lib/python3.10/site-packages (from anyio<=4.2.0,>=3.7.1->supervisely>=6.72.28->dataset-tools) (1.2.2)\n",
      "Requirement already satisfied: typing-extensions>=4.1 in ./.venv/lib/python3.10/site-packages (from anyio<=4.2.0,>=3.7.1->supervisely>=6.72.28->dataset-tools) (4.12.2)\n",
      "Requirement already satisfied: starlette==0.* in ./.venv/lib/python3.10/site-packages (from arel<1.0.0,>=0.2.0->supervisely>=6.72.28->dataset-tools) (0.35.1)\n",
      "Requirement already satisfied: watchfiles==0.* in ./.venv/lib/python3.10/site-packages (from arel<1.0.0,>=0.2.0->supervisely>=6.72.28->dataset-tools) (0.24.0)\n",
      "Requirement already satisfied: jsonpointer>=1.9 in ./.venv/lib/python3.10/site-packages (from jsonpatch<2.0,>=1.32->supervisely>=6.72.28->dataset-tools) (3.0.0)\n",
      "Requirement already satisfied: jsonschema-specifications>=2023.03.6 in ./.venv/lib/python3.10/site-packages (from jsonschema<=4.20.0,>=2.6.0->supervisely>=6.72.28->dataset-tools) (2024.10.1)\n",
      "Requirement already satisfied: referencing>=0.28.4 in ./.venv/lib/python3.10/site-packages (from jsonschema<=4.20.0,>=2.6.0->supervisely>=6.72.28->dataset-tools) (0.36.2)\n",
      "Requirement already satisfied: rpds-py>=0.7.1 in ./.venv/lib/python3.10/site-packages (from jsonschema<=4.20.0,>=2.6.0->supervisely>=6.72.28->dataset-tools) (0.23.1)\n",
      "Requirement already satisfied: bleach!=5.0.0 in ./.venv/lib/python3.10/site-packages (from bleach[css]!=5.0.0->nbconvert>=5->dataframe-image<1.0.0,>=0.1.11->dataset-tools) (6.2.0)\n",
      "Requirement already satisfied: defusedxml in ./.venv/lib/python3.10/site-packages (from nbconvert>=5->dataframe-image<1.0.0,>=0.1.11->dataset-tools) (0.7.1)\n",
      "Requirement already satisfied: jupyter-core>=4.7 in ./.venv/lib/python3.10/site-packages (from nbconvert>=5->dataframe-image<1.0.0,>=0.1.11->dataset-tools) (5.7.2)\n",
      "Requirement already satisfied: jupyterlab-pygments in ./.venv/lib/python3.10/site-packages (from nbconvert>=5->dataframe-image<1.0.0,>=0.1.11->dataset-tools) (0.3.0)\n",
      "Requirement already satisfied: nbclient>=0.5.0 in ./.venv/lib/python3.10/site-packages (from nbconvert>=5->dataframe-image<1.0.0,>=0.1.11->dataset-tools) (0.10.2)\n",
      "Requirement already satisfied: nbformat>=5.7 in ./.venv/lib/python3.10/site-packages (from nbconvert>=5->dataframe-image<1.0.0,>=0.1.11->dataset-tools) (5.10.4)\n",
      "Requirement already satisfied: pandocfilters>=1.4.1 in ./.venv/lib/python3.10/site-packages (from nbconvert>=5->dataframe-image<1.0.0,>=0.1.11->dataset-tools) (1.5.1)\n",
      "Requirement already satisfied: pygments>=2.4.1 in ./.venv/lib/python3.10/site-packages (from nbconvert>=5->dataframe-image<1.0.0,>=0.1.11->dataset-tools) (2.19.1)\n",
      "Requirement already satisfied: traitlets>=5.1 in ./.venv/lib/python3.10/site-packages (from nbconvert>=5->dataframe-image<1.0.0,>=0.1.11->dataset-tools) (5.14.3)\n",
      "Requirement already satisfied: annotated-types>=0.4.0 in ./.venv/lib/python3.10/site-packages (from pydantic<=2.8.2,>=1.7.4->supervisely>=6.72.28->dataset-tools) (0.7.0)\n",
      "Requirement already satisfied: pydantic-core==2.20.1 in ./.venv/lib/python3.10/site-packages (from pydantic<=2.8.2,>=1.7.4->supervisely>=6.72.28->dataset-tools) (2.20.1)\n",
      "Requirement already satisfied: six>=1.5 in ./.venv/lib/python3.10/site-packages (from python-dateutil>=2.7->matplotlib<4.0.0,>=3.3.2->dataset-tools) (1.17.0)\n",
      "Requirement already satisfied: httptools>=0.6.3 in ./.venv/lib/python3.10/site-packages (from uvicorn[standard]<1.0.0,>=0.18.2->supervisely>=6.72.28->dataset-tools) (0.6.4)\n",
      "Requirement already satisfied: uvloop!=0.15.0,!=0.15.1,>=0.14.0 in ./.venv/lib/python3.10/site-packages (from uvicorn[standard]<1.0.0,>=0.18.2->supervisely>=6.72.28->dataset-tools) (0.21.0)\n",
      "Requirement already satisfied: executing<3.0,>=2.1 in ./.venv/lib/python3.10/site-packages (from varname<1.0.0,>=0.8.1->supervisely>=6.72.28->dataset-tools) (2.2.0)\n",
      "Requirement already satisfied: soupsieve>1.2 in ./.venv/lib/python3.10/site-packages (from beautifulsoup4->dataframe-image<1.0.0,>=0.1.11->dataset-tools) (2.6)\n",
      "Requirement already satisfied: gitdb<5,>=4.0.1 in ./.venv/lib/python3.10/site-packages (from GitPython->supervisely>=6.72.28->dataset-tools) (4.0.12)\n",
      "Requirement already satisfied: pyee<13,>=12 in ./.venv/lib/python3.10/site-packages (from playwright->dataframe-image<1.0.0,>=0.1.11->dataset-tools) (12.1.1)\n",
      "Requirement already satisfied: greenlet<4.0.0,>=3.1.1 in ./.venv/lib/python3.10/site-packages (from playwright->dataframe-image<1.0.0,>=0.1.11->dataset-tools) (3.1.1)\n",
      "Requirement already satisfied: PySocks!=1.5.7,>=1.5.6 in ./.venv/lib/python3.10/site-packages (from requests[socks]->gdown>=4.7.1->dataset-tools) (1.7.1)\n",
      "Requirement already satisfied: markdown-it-py>=2.2.0 in ./.venv/lib/python3.10/site-packages (from rich->supervisely>=6.72.28->dataset-tools) (3.0.0)\n",
      "Requirement already satisfied: webencodings in ./.venv/lib/python3.10/site-packages (from bleach!=5.0.0->bleach[css]!=5.0.0->nbconvert>=5->dataframe-image<1.0.0,>=0.1.11->dataset-tools) (0.5.1)\n",
      "Requirement already satisfied: tinycss2<1.5,>=1.1.0 in ./.venv/lib/python3.10/site-packages (from bleach[css]!=5.0.0->nbconvert>=5->dataframe-image<1.0.0,>=0.1.11->dataset-tools) (1.4.0)\n",
      "Requirement already satisfied: smmap<6,>=3.0.1 in ./.venv/lib/python3.10/site-packages (from gitdb<5,>=4.0.1->GitPython->supervisely>=6.72.28->dataset-tools) (5.0.2)\n",
      "Requirement already satisfied: hyperframe<7,>=6.1 in ./.venv/lib/python3.10/site-packages (from h2<5,>=3->httpx[http2]==0.27.2->supervisely>=6.72.28->dataset-tools) (6.1.0)\n",
      "Requirement already satisfied: hpack<5,>=4.1 in ./.venv/lib/python3.10/site-packages (from h2<5,>=3->httpx[http2]==0.27.2->supervisely>=6.72.28->dataset-tools) (4.1.0)\n",
      "Requirement already satisfied: platformdirs>=2.5 in ./.venv/lib/python3.10/site-packages (from jupyter-core>=4.7->nbconvert>=5->dataframe-image<1.0.0,>=0.1.11->dataset-tools) (4.3.6)\n",
      "Requirement already satisfied: mdurl~=0.1 in ./.venv/lib/python3.10/site-packages (from markdown-it-py>=2.2.0->rich->supervisely>=6.72.28->dataset-tools) (0.1.2)\n",
      "Requirement already satisfied: jupyter-client>=6.1.12 in ./.venv/lib/python3.10/site-packages (from nbclient>=0.5.0->nbconvert>=5->dataframe-image<1.0.0,>=0.1.11->dataset-tools) (8.6.3)\n",
      "Requirement already satisfied: fastjsonschema>=2.15 in ./.venv/lib/python3.10/site-packages (from nbformat>=5.7->nbconvert>=5->dataframe-image<1.0.0,>=0.1.11->dataset-tools) (2.21.1)\n",
      "Requirement already satisfied: pyzmq>=23.0 in ./.venv/lib/python3.10/site-packages (from jupyter-client>=6.1.12->nbclient>=0.5.0->nbconvert>=5->dataframe-image<1.0.0,>=0.1.11->dataset-tools) (26.3.0)\n",
      "Requirement already satisfied: tornado>=6.2 in ./.venv/lib/python3.10/site-packages (from jupyter-client>=6.1.12->nbclient>=0.5.0->nbconvert>=5->dataframe-image<1.0.0,>=0.1.11->dataset-tools) (6.4.2)\n"
     ]
    }
   ],
   "source": [
    "!pip install dataset-tools"
   ]
  },
  {
   "cell_type": "code",
   "execution_count": 5,
   "metadata": {},
   "outputs": [
    {
     "name": "stderr",
     "output_type": "stream",
     "text": [
      "Downloading 'Dentalai': 0.00B [00:00, ?B/s]\n"
     ]
    },
    {
     "data": {
      "text/plain": [
       "'/home/mdsme/Documents/project/Gilang/cariesDetection/dataset/dentalai.tar'"
      ]
     },
     "execution_count": 5,
     "metadata": {},
     "output_type": "execute_result"
    }
   ],
   "source": [
    "import dataset_tools as dtools\n",
    "\n",
    "dtools.download(dataset='Dentalai', dst_dir='/home/mdsme/Documents/project/Gilang/cariesDetection/dataset')"
   ]
  },
  {
   "cell_type": "code",
   "execution_count": 7,
   "metadata": {
    "collapsed": true
   },
   "outputs": [],
   "source": [
    "# After the dataset is transformed, you can use this code to train model on this dataset"
   ]
  },
  {
   "cell_type": "code",
   "execution_count": 1,
   "metadata": {
    "collapsed": false
   },
   "outputs": [],
   "source": [
    "from ultralytics import YOLO\n",
    "import os"
   ]
  },
  {
   "cell_type": "code",
   "execution_count": 2,
   "metadata": {
    "collapsed": false
   },
   "outputs": [],
   "source": [
    "# Load the medium YOLOv8 pretrained model\n",
    "model = YOLO(\"yolov8m.pt\")"
   ]
  },
  {
   "cell_type": "code",
   "execution_count": null,
   "metadata": {
    "collapsed": false,
    "pycharm": {
     "is_executing": true
    }
   },
   "outputs": [],
   "source": [
    "# Train the model on transformed dataset with 30 epochs (you can set more epochs, but will be longer).\n",
    "model.train(data=os.path.join(os.getcwd(),\"yolo_dataset\",\"data.yaml\"),model=\"yolov8m.pt\",epochs=30)"
   ]
  },
  {
   "cell_type": "code",
   "execution_count": null,
   "metadata": {
    "collapsed": false
   },
   "outputs": [],
   "source": [
    "# after training finishes, the best model will be in the runs/detect/train/weights/best.pt file"
   ]
  }
 ],
 "metadata": {
  "kernelspec": {
   "display_name": ".venv",
   "language": "python",
   "name": "python3"
  },
  "language_info": {
   "codemirror_mode": {
    "name": "ipython",
    "version": 3
   },
   "file_extension": ".py",
   "mimetype": "text/x-python",
   "name": "python",
   "nbconvert_exporter": "python",
   "pygments_lexer": "ipython3",
   "version": "3.10.12"
  }
 },
 "nbformat": 4,
 "nbformat_minor": 0
}
